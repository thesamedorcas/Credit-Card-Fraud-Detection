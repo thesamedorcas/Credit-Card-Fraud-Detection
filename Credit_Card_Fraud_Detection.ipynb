{
  "metadata": {
    "kernelspec": {
      "language": "python",
      "display_name": "Python 3",
      "name": "python3"
    },
    "language_info": {
      "name": "python",
      "version": "3.10.13",
      "mimetype": "text/x-python",
      "codemirror_mode": {
        "name": "ipython",
        "version": 3
      },
      "pygments_lexer": "ipython3",
      "nbconvert_exporter": "python",
      "file_extension": ".py"
    },
    "kaggle": {
      "accelerator": "none",
      "dataSources": [
        {
          "sourceId": 23498,
          "sourceType": "datasetVersion",
          "datasetId": 310
        }
      ],
      "dockerImageVersionId": 30746,
      "isInternetEnabled": false,
      "language": "python",
      "sourceType": "notebook",
      "isGpuEnabled": false
    },
    "colab": {
      "name": "Credit Card Fraud Detection",
      "provenance": [],
      "include_colab_link": true
    }
  },
  "nbformat_minor": 0,
  "nbformat": 4,
  "cells": [
    {
      "cell_type": "markdown",
      "metadata": {
        "id": "view-in-github",
        "colab_type": "text"
      },
      "source": [
        "<a href=\"https://colab.research.google.com/github/thesamedorcas/Credit-Card-Fraud-Detection/blob/main/Credit_Card_Fraud_Detection.ipynb\" target=\"_parent\"><img src=\"https://colab.research.google.com/assets/colab-badge.svg\" alt=\"Open In Colab\"/></a>"
      ]
    },
    {
      "source": [
        "\n",
        "# IMPORTANT: RUN THIS CELL IN ORDER TO IMPORT YOUR KAGGLE DATA SOURCES\n",
        "# TO THE CORRECT LOCATION (/kaggle/input) IN YOUR NOTEBOOK,\n",
        "# THEN FEEL FREE TO DELETE THIS CELL.\n",
        "# NOTE: THIS NOTEBOOK ENVIRONMENT DIFFERS FROM KAGGLE'S PYTHON\n",
        "# ENVIRONMENT SO THERE MAY BE MISSING LIBRARIES USED BY YOUR\n",
        "# NOTEBOOK.\n",
        "\n",
        "import os\n",
        "import sys\n",
        "from tempfile import NamedTemporaryFile\n",
        "from urllib.request import urlopen\n",
        "from urllib.parse import unquote, urlparse\n",
        "from urllib.error import HTTPError\n",
        "from zipfile import ZipFile\n",
        "import tarfile\n",
        "import shutil\n",
        "\n",
        "CHUNK_SIZE = 40960\n",
        "DATA_SOURCE_MAPPING = 'creditcardfraud:https%3A%2F%2Fstorage.googleapis.com%2Fkaggle-data-sets%2F310%2F23498%2Fbundle%2Farchive.zip%3FX-Goog-Algorithm%3DGOOG4-RSA-SHA256%26X-Goog-Credential%3Dgcp-kaggle-com%2540kaggle-161607.iam.gserviceaccount.com%252F20240812%252Fauto%252Fstorage%252Fgoog4_request%26X-Goog-Date%3D20240812T141830Z%26X-Goog-Expires%3D259200%26X-Goog-SignedHeaders%3Dhost%26X-Goog-Signature%3D600cb1a529f03ef2fbb73438e2114d637139eefc4e4b6c30eaddda154dc23757c3665e4fa4ba3f764567b41654d9bc0e65d273972682fb79eaa35cd09a48331640a9403fd8c53949c9467bd7c22b32ccdce66dbadfde74299721ec560b85a2fa9ff355d8825648ff9f2e310b3a8f279bb21050f07ba8489acaa99ff4f15d784c995ce8c193666aee792a6d6517e84335129cb152a69a2fd0c07bf7ada459eebcbd78c8065f0a47870bdbd6c3ccaead27536ee8917385f0a04274210bc8058530c03137d654a1da4496f5e30a7f61afdf23b6bfefce8fcb4ad55bb8d90e04a2709c01014169047f9162530d0b3bb4c2158a967e01ac8d29744468dfa3e0a4d940'\n",
        "\n",
        "KAGGLE_INPUT_PATH='/kaggle/input'\n",
        "KAGGLE_WORKING_PATH='/kaggle/working'\n",
        "KAGGLE_SYMLINK='kaggle'\n",
        "\n",
        "!umount /kaggle/input/ 2> /dev/null\n",
        "shutil.rmtree('/kaggle/input', ignore_errors=True)\n",
        "os.makedirs(KAGGLE_INPUT_PATH, 0o777, exist_ok=True)\n",
        "os.makedirs(KAGGLE_WORKING_PATH, 0o777, exist_ok=True)\n",
        "\n",
        "try:\n",
        "  os.symlink(KAGGLE_INPUT_PATH, os.path.join(\"..\", 'input'), target_is_directory=True)\n",
        "except FileExistsError:\n",
        "  pass\n",
        "try:\n",
        "  os.symlink(KAGGLE_WORKING_PATH, os.path.join(\"..\", 'working'), target_is_directory=True)\n",
        "except FileExistsError:\n",
        "  pass\n",
        "\n",
        "for data_source_mapping in DATA_SOURCE_MAPPING.split(','):\n",
        "    directory, download_url_encoded = data_source_mapping.split(':')\n",
        "    download_url = unquote(download_url_encoded)\n",
        "    filename = urlparse(download_url).path\n",
        "    destination_path = os.path.join(KAGGLE_INPUT_PATH, directory)\n",
        "    try:\n",
        "        with urlopen(download_url) as fileres, NamedTemporaryFile() as tfile:\n",
        "            total_length = fileres.headers['content-length']\n",
        "            print(f'Downloading {directory}, {total_length} bytes compressed')\n",
        "            dl = 0\n",
        "            data = fileres.read(CHUNK_SIZE)\n",
        "            while len(data) > 0:\n",
        "                dl += len(data)\n",
        "                tfile.write(data)\n",
        "                done = int(50 * dl / int(total_length))\n",
        "                sys.stdout.write(f\"\\r[{'=' * done}{' ' * (50-done)}] {dl} bytes downloaded\")\n",
        "                sys.stdout.flush()\n",
        "                data = fileres.read(CHUNK_SIZE)\n",
        "            if filename.endswith('.zip'):\n",
        "              with ZipFile(tfile) as zfile:\n",
        "                zfile.extractall(destination_path)\n",
        "            else:\n",
        "              with tarfile.open(tfile.name) as tarfile:\n",
        "                tarfile.extractall(destination_path)\n",
        "            print(f'\\nDownloaded and uncompressed: {directory}')\n",
        "    except HTTPError as e:\n",
        "        print(f'Failed to load (likely expired) {download_url} to path {destination_path}')\n",
        "        continue\n",
        "    except OSError as e:\n",
        "        print(f'Failed to load {download_url} to path {destination_path}')\n",
        "        continue\n",
        "\n",
        "print('Data source import complete.')\n"
      ],
      "metadata": {
        "id": "RfcUvBxr9IOL"
      },
      "cell_type": "code",
      "outputs": [],
      "execution_count": null
    },
    {
      "cell_type": "code",
      "source": [
        "#Importing the dependecies\n",
        "import numpy as np\n",
        "import pandas as pd\n",
        "from sklearn.model_selection import train_test_split\n",
        "from sklearn.linear_model import LogisticRegression\n",
        "from sklearn.metrics import accuracy_score"
      ],
      "metadata": {
        "execution": {
          "iopub.status.busy": "2024-08-12T13:56:38.829333Z",
          "iopub.execute_input": "2024-08-12T13:56:38.830274Z",
          "iopub.status.idle": "2024-08-12T13:56:38.83567Z",
          "shell.execute_reply.started": "2024-08-12T13:56:38.830235Z",
          "shell.execute_reply": "2024-08-12T13:56:38.834451Z"
        },
        "trusted": true,
        "id": "10W4z32s9IOM"
      },
      "execution_count": null,
      "outputs": []
    },
    {
      "cell_type": "code",
      "source": [
        "#Loading the dataset to the Pandas dataframe\n",
        "credit_card_data= pd.read_csv('/kaggle/input/creditcardfraud/creditcard.csv')"
      ],
      "metadata": {
        "execution": {
          "iopub.status.busy": "2024-08-12T13:56:38.83804Z",
          "iopub.execute_input": "2024-08-12T13:56:38.838412Z",
          "iopub.status.idle": "2024-08-12T13:56:41.890212Z",
          "shell.execute_reply.started": "2024-08-12T13:56:38.83838Z",
          "shell.execute_reply": "2024-08-12T13:56:41.889053Z"
        },
        "trusted": true,
        "id": "9eGT7CHK9ION"
      },
      "execution_count": null,
      "outputs": []
    },
    {
      "cell_type": "code",
      "source": [
        "#I want to see the first 5 rows of the dataset to see what features the data set has\n",
        "credit_card_data.head()"
      ],
      "metadata": {
        "execution": {
          "iopub.status.busy": "2024-08-12T13:56:41.891469Z",
          "iopub.execute_input": "2024-08-12T13:56:41.891811Z",
          "iopub.status.idle": "2024-08-12T13:56:41.92285Z",
          "shell.execute_reply.started": "2024-08-12T13:56:41.891781Z",
          "shell.execute_reply": "2024-08-12T13:56:41.921605Z"
        },
        "trusted": true,
        "id": "Kw7ALOfg9ION"
      },
      "execution_count": null,
      "outputs": []
    },
    {
      "cell_type": "code",
      "source": [
        "#Last 5 rows\n",
        "credit_card_data.tail()\n"
      ],
      "metadata": {
        "execution": {
          "iopub.status.busy": "2024-08-12T13:56:41.924561Z",
          "iopub.execute_input": "2024-08-12T13:56:41.92504Z",
          "iopub.status.idle": "2024-08-12T13:56:41.958571Z",
          "shell.execute_reply.started": "2024-08-12T13:56:41.924973Z",
          "shell.execute_reply": "2024-08-12T13:56:41.957239Z"
        },
        "trusted": true,
        "id": "Ql_u-TE99ION"
      },
      "execution_count": null,
      "outputs": []
    },
    {
      "cell_type": "code",
      "source": [
        "#Gathering dataset information\n",
        "credit_card_data.info()"
      ],
      "metadata": {
        "execution": {
          "iopub.status.busy": "2024-08-12T13:56:41.962715Z",
          "iopub.execute_input": "2024-08-12T13:56:41.963219Z",
          "iopub.status.idle": "2024-08-12T13:56:41.994895Z",
          "shell.execute_reply.started": "2024-08-12T13:56:41.963174Z",
          "shell.execute_reply": "2024-08-12T13:56:41.993656Z"
        },
        "trusted": true,
        "id": "iC0BlEsM9ION"
      },
      "execution_count": null,
      "outputs": []
    },
    {
      "cell_type": "code",
      "source": [
        "#checking the number of missing values in each column\n",
        "credit_card_data.isnull().sum()\n",
        "#No missing values"
      ],
      "metadata": {
        "execution": {
          "iopub.status.busy": "2024-08-12T13:56:41.9965Z",
          "iopub.execute_input": "2024-08-12T13:56:41.996858Z",
          "iopub.status.idle": "2024-08-12T13:56:42.019464Z",
          "shell.execute_reply.started": "2024-08-12T13:56:41.996828Z",
          "shell.execute_reply": "2024-08-12T13:56:42.018354Z"
        },
        "trusted": true,
        "id": "QZ7puOSX9ION"
      },
      "execution_count": null,
      "outputs": []
    },
    {
      "cell_type": "code",
      "source": [
        "#Distribution of legit transactions and fraudulent transaction( 0- legit, 1- fraudulent)\n",
        "credit_card_data['Class'].value_counts()"
      ],
      "metadata": {
        "execution": {
          "iopub.status.busy": "2024-08-12T13:56:42.021144Z",
          "iopub.execute_input": "2024-08-12T13:56:42.021603Z",
          "iopub.status.idle": "2024-08-12T13:56:42.033724Z",
          "shell.execute_reply.started": "2024-08-12T13:56:42.021562Z",
          "shell.execute_reply": "2024-08-12T13:56:42.032411Z"
        },
        "trusted": true,
        "id": "JI0xLlvG9IOO"
      },
      "execution_count": null,
      "outputs": []
    },
    {
      "cell_type": "markdown",
      "source": [
        "This dataset is highly unbalanced\n",
        "\n",
        "0- legit\n",
        "1-fraudulent\n"
      ],
      "metadata": {
        "id": "ilDlRpyA9IOO"
      }
    },
    {
      "cell_type": "code",
      "source": [
        "legit= credit_card_data[credit_card_data.Class ==0]\n",
        "fraud= credit_card_data[credit_card_data.Class==1]\n"
      ],
      "metadata": {
        "execution": {
          "iopub.status.busy": "2024-08-12T13:56:42.035324Z",
          "iopub.execute_input": "2024-08-12T13:56:42.035821Z",
          "iopub.status.idle": "2024-08-12T13:56:42.085596Z",
          "shell.execute_reply.started": "2024-08-12T13:56:42.03576Z",
          "shell.execute_reply": "2024-08-12T13:56:42.084522Z"
        },
        "trusted": true,
        "id": "SP2M9v8t9IOP"
      },
      "execution_count": null,
      "outputs": []
    },
    {
      "cell_type": "code",
      "source": [
        "print(legit.shape)\n",
        "print(fraud.shape)"
      ],
      "metadata": {
        "execution": {
          "iopub.status.busy": "2024-08-12T13:56:42.086978Z",
          "iopub.execute_input": "2024-08-12T13:56:42.087451Z",
          "iopub.status.idle": "2024-08-12T13:56:42.092733Z",
          "shell.execute_reply.started": "2024-08-12T13:56:42.087417Z",
          "shell.execute_reply": "2024-08-12T13:56:42.091657Z"
        },
        "trusted": true,
        "id": "pLlEQhG_9IOP"
      },
      "execution_count": null,
      "outputs": []
    },
    {
      "cell_type": "code",
      "source": [
        "#statistical measures of the data\n",
        "legit.Amount.describe()"
      ],
      "metadata": {
        "execution": {
          "iopub.status.busy": "2024-08-12T13:56:42.094208Z",
          "iopub.execute_input": "2024-08-12T13:56:42.094544Z",
          "iopub.status.idle": "2024-08-12T13:56:42.122573Z",
          "shell.execute_reply.started": "2024-08-12T13:56:42.094515Z",
          "shell.execute_reply": "2024-08-12T13:56:42.121392Z"
        },
        "trusted": true,
        "id": "pI9KBBIR9IOP"
      },
      "execution_count": null,
      "outputs": []
    },
    {
      "cell_type": "code",
      "source": [
        "fraud.Amount.describe()"
      ],
      "metadata": {
        "execution": {
          "iopub.status.busy": "2024-08-12T13:56:42.124144Z",
          "iopub.execute_input": "2024-08-12T13:56:42.124498Z",
          "iopub.status.idle": "2024-08-12T13:56:42.137554Z",
          "shell.execute_reply.started": "2024-08-12T13:56:42.124469Z",
          "shell.execute_reply": "2024-08-12T13:56:42.136183Z"
        },
        "trusted": true,
        "id": "4w7E-Of-9IOP"
      },
      "execution_count": null,
      "outputs": []
    },
    {
      "cell_type": "code",
      "source": [
        "#compare values for btoh fraudulent and legit transactions\n",
        "credit_card_data.groupby(\"Class\").mean()"
      ],
      "metadata": {
        "execution": {
          "iopub.status.busy": "2024-08-12T13:56:42.13953Z",
          "iopub.execute_input": "2024-08-12T13:56:42.139919Z",
          "iopub.status.idle": "2024-08-12T13:56:42.288538Z",
          "shell.execute_reply.started": "2024-08-12T13:56:42.139888Z",
          "shell.execute_reply": "2024-08-12T13:56:42.287482Z"
        },
        "trusted": true,
        "id": "5Hpv5kaz9IOP"
      },
      "execution_count": null,
      "outputs": []
    },
    {
      "cell_type": "markdown",
      "source": [
        "Under-sampling\n",
        "Build sample dataset containibg similar distribution of normal transaction and the fraudulent transactions\n",
        "No of fraud transactions- 492\n",
        "I'm going to take 492 random samples from the legit transactions so I can compare it to the fraudulent transactions therefore making it event and easy to differentiate"
      ],
      "metadata": {
        "id": "EWUh9Puf9IOP"
      }
    },
    {
      "cell_type": "code",
      "source": [
        "legit_sample= legit.sample(n=492)"
      ],
      "metadata": {
        "execution": {
          "iopub.status.busy": "2024-08-12T13:56:42.289852Z",
          "iopub.execute_input": "2024-08-12T13:56:42.290216Z",
          "iopub.status.idle": "2024-08-12T13:56:42.305195Z",
          "shell.execute_reply.started": "2024-08-12T13:56:42.290185Z",
          "shell.execute_reply": "2024-08-12T13:56:42.303937Z"
        },
        "trusted": true,
        "id": "5dHqdYs59IOP"
      },
      "execution_count": null,
      "outputs": []
    },
    {
      "cell_type": "markdown",
      "source": [
        "Concatenating 2 ddata frames- the legit and fraudulent"
      ],
      "metadata": {
        "id": "9-IU0lCJ9IOP"
      }
    },
    {
      "cell_type": "code",
      "source": [
        "new_dataset= pd.concat([legit_sample, fraud], axis= 0)"
      ],
      "metadata": {
        "execution": {
          "iopub.status.busy": "2024-08-12T13:56:42.310971Z",
          "iopub.execute_input": "2024-08-12T13:56:42.311379Z",
          "iopub.status.idle": "2024-08-12T13:56:42.318208Z",
          "shell.execute_reply.started": "2024-08-12T13:56:42.311341Z",
          "shell.execute_reply": "2024-08-12T13:56:42.316841Z"
        },
        "trusted": true,
        "id": "xAGct8fm9IOP"
      },
      "execution_count": null,
      "outputs": []
    },
    {
      "cell_type": "code",
      "source": [
        "new_dataset.head()"
      ],
      "metadata": {
        "execution": {
          "iopub.status.busy": "2024-08-12T13:56:42.319565Z",
          "iopub.execute_input": "2024-08-12T13:56:42.319886Z",
          "iopub.status.idle": "2024-08-12T13:56:42.352869Z",
          "shell.execute_reply.started": "2024-08-12T13:56:42.319859Z",
          "shell.execute_reply": "2024-08-12T13:56:42.351448Z"
        },
        "trusted": true,
        "id": "XbAlqeas9IOP"
      },
      "execution_count": null,
      "outputs": []
    },
    {
      "cell_type": "code",
      "source": [
        "new_dataset.tail()"
      ],
      "metadata": {
        "execution": {
          "iopub.status.busy": "2024-08-12T13:56:42.354614Z",
          "iopub.execute_input": "2024-08-12T13:56:42.35509Z",
          "iopub.status.idle": "2024-08-12T13:56:42.388319Z",
          "shell.execute_reply.started": "2024-08-12T13:56:42.355047Z",
          "shell.execute_reply": "2024-08-12T13:56:42.387056Z"
        },
        "trusted": true,
        "id": "GEgm54FQ9IOP"
      },
      "execution_count": null,
      "outputs": []
    },
    {
      "cell_type": "code",
      "source": [
        "new_dataset[\"Class\"].value_counts()"
      ],
      "metadata": {
        "execution": {
          "iopub.status.busy": "2024-08-12T13:56:42.389624Z",
          "iopub.execute_input": "2024-08-12T13:56:42.390043Z",
          "iopub.status.idle": "2024-08-12T13:56:42.401537Z",
          "shell.execute_reply.started": "2024-08-12T13:56:42.390001Z",
          "shell.execute_reply": "2024-08-12T13:56:42.400272Z"
        },
        "trusted": true,
        "id": "WbtEeRJx9IOP"
      },
      "execution_count": null,
      "outputs": []
    },
    {
      "cell_type": "code",
      "source": [
        "new_dataset.groupby(\"Class\").mean()"
      ],
      "metadata": {
        "execution": {
          "iopub.status.busy": "2024-08-12T13:56:42.403411Z",
          "iopub.execute_input": "2024-08-12T13:56:42.403787Z",
          "iopub.status.idle": "2024-08-12T13:56:42.435334Z",
          "shell.execute_reply.started": "2024-08-12T13:56:42.403743Z",
          "shell.execute_reply": "2024-08-12T13:56:42.434082Z"
        },
        "trusted": true,
        "id": "MX5c-kc-9IOP"
      },
      "execution_count": null,
      "outputs": []
    },
    {
      "cell_type": "markdown",
      "source": [
        "Splitting the data into features and targets"
      ],
      "metadata": {
        "id": "VosGVnTw9IOQ"
      }
    },
    {
      "cell_type": "code",
      "source": [
        "X = new_dataset.drop(columns='Class', axis=1)\n",
        "Y = new_dataset['Class']"
      ],
      "metadata": {
        "execution": {
          "iopub.status.busy": "2024-08-12T13:56:42.436775Z",
          "iopub.execute_input": "2024-08-12T13:56:42.437137Z",
          "iopub.status.idle": "2024-08-12T13:56:42.443606Z",
          "shell.execute_reply.started": "2024-08-12T13:56:42.437105Z",
          "shell.execute_reply": "2024-08-12T13:56:42.442281Z"
        },
        "trusted": true,
        "id": "-zyeha459IOQ"
      },
      "execution_count": null,
      "outputs": []
    },
    {
      "cell_type": "code",
      "source": [
        "print(X)"
      ],
      "metadata": {
        "execution": {
          "iopub.status.busy": "2024-08-12T13:56:42.445175Z",
          "iopub.execute_input": "2024-08-12T13:56:42.445521Z",
          "iopub.status.idle": "2024-08-12T13:56:42.471105Z",
          "shell.execute_reply.started": "2024-08-12T13:56:42.445491Z",
          "shell.execute_reply": "2024-08-12T13:56:42.469768Z"
        },
        "trusted": true,
        "id": "vK4H8HZ49IOQ"
      },
      "execution_count": null,
      "outputs": []
    },
    {
      "cell_type": "code",
      "source": [
        "print(Y)"
      ],
      "metadata": {
        "execution": {
          "iopub.status.busy": "2024-08-12T13:56:42.47252Z",
          "iopub.execute_input": "2024-08-12T13:56:42.472885Z",
          "iopub.status.idle": "2024-08-12T13:56:42.484217Z",
          "shell.execute_reply.started": "2024-08-12T13:56:42.472854Z",
          "shell.execute_reply": "2024-08-12T13:56:42.483056Z"
        },
        "trusted": true,
        "id": "wwtxeIYb9IOQ"
      },
      "execution_count": null,
      "outputs": []
    },
    {
      "cell_type": "markdown",
      "source": [
        "Split data into training and testing data"
      ],
      "metadata": {
        "id": "V4I_PmAY9IOQ"
      }
    },
    {
      "cell_type": "code",
      "source": [
        "X_train, X_test, Y_train, Y_test = train_test_split(X, Y, test_size=0.2, stratify=Y, random_state=2)"
      ],
      "metadata": {
        "execution": {
          "iopub.status.busy": "2024-08-12T13:56:42.485788Z",
          "iopub.execute_input": "2024-08-12T13:56:42.48622Z",
          "iopub.status.idle": "2024-08-12T13:56:42.499108Z",
          "shell.execute_reply.started": "2024-08-12T13:56:42.48618Z",
          "shell.execute_reply": "2024-08-12T13:56:42.498009Z"
        },
        "trusted": true,
        "id": "F-e0HemD9IOQ"
      },
      "execution_count": null,
      "outputs": []
    },
    {
      "cell_type": "code",
      "source": [
        "print(X.shape, X_train.shape, X_test.shape)"
      ],
      "metadata": {
        "execution": {
          "iopub.status.busy": "2024-08-12T13:56:42.500465Z",
          "iopub.execute_input": "2024-08-12T13:56:42.500789Z",
          "iopub.status.idle": "2024-08-12T13:56:42.509705Z",
          "shell.execute_reply.started": "2024-08-12T13:56:42.500762Z",
          "shell.execute_reply": "2024-08-12T13:56:42.508257Z"
        },
        "trusted": true,
        "id": "xZRhyIzH9IOQ"
      },
      "execution_count": null,
      "outputs": []
    },
    {
      "cell_type": "markdown",
      "source": [
        "Model Training\n"
      ],
      "metadata": {
        "id": "uvkl97kN9IOQ"
      }
    },
    {
      "cell_type": "code",
      "source": [
        "model = LogisticRegression(max_iter=1000)"
      ],
      "metadata": {
        "execution": {
          "iopub.status.busy": "2024-08-12T13:57:44.090802Z",
          "iopub.execute_input": "2024-08-12T13:57:44.091271Z",
          "iopub.status.idle": "2024-08-12T13:57:44.097212Z",
          "shell.execute_reply.started": "2024-08-12T13:57:44.091233Z",
          "shell.execute_reply": "2024-08-12T13:57:44.095855Z"
        },
        "trusted": true,
        "id": "Ue6u_76E9IOQ"
      },
      "execution_count": null,
      "outputs": []
    },
    {
      "cell_type": "code",
      "source": [
        "#Training the logistic Regression model with training data\n",
        "model.fit(X_train, Y_train)\n"
      ],
      "metadata": {
        "execution": {
          "iopub.status.busy": "2024-08-12T13:57:45.749032Z",
          "iopub.execute_input": "2024-08-12T13:57:45.749478Z",
          "iopub.status.idle": "2024-08-12T13:57:45.845259Z",
          "shell.execute_reply.started": "2024-08-12T13:57:45.749445Z",
          "shell.execute_reply": "2024-08-12T13:57:45.843808Z"
        },
        "trusted": true,
        "id": "nqRRkoTO9IOQ"
      },
      "execution_count": null,
      "outputs": []
    },
    {
      "cell_type": "markdown",
      "source": [
        "Model Evaluation\n",
        "Accuracy Score"
      ],
      "metadata": {
        "id": "wg_QESYV9IOQ"
      }
    },
    {
      "cell_type": "code",
      "source": [
        "# accuracy on training data\n",
        "X_train_prediction = model.predict(X_train)\n",
        "training_data_accuracy = accuracy_score(X_train_prediction, Y_train)"
      ],
      "metadata": {
        "execution": {
          "iopub.status.busy": "2024-08-12T14:00:11.096918Z",
          "iopub.execute_input": "2024-08-12T14:00:11.097436Z",
          "iopub.status.idle": "2024-08-12T14:00:11.114193Z",
          "shell.execute_reply.started": "2024-08-12T14:00:11.097399Z",
          "shell.execute_reply": "2024-08-12T14:00:11.112065Z"
        },
        "trusted": true,
        "id": "CX-yf64Y9IOQ"
      },
      "execution_count": null,
      "outputs": []
    },
    {
      "cell_type": "code",
      "source": [
        "print(\"Accuracy on training data: \", training_data_accuracy)"
      ],
      "metadata": {
        "execution": {
          "iopub.status.busy": "2024-08-12T14:01:37.145266Z",
          "iopub.execute_input": "2024-08-12T14:01:37.146335Z",
          "iopub.status.idle": "2024-08-12T14:01:37.158789Z",
          "shell.execute_reply.started": "2024-08-12T14:01:37.14623Z",
          "shell.execute_reply": "2024-08-12T14:01:37.157582Z"
        },
        "trusted": true,
        "id": "m-Uzt6J99IOQ"
      },
      "execution_count": null,
      "outputs": []
    },
    {
      "cell_type": "code",
      "source": [
        "# accuracy on test data\n",
        "X_test_prediction = model.predict(X_test)\n",
        "test_data_accuracy = accuracy_score(X_test_prediction, Y_test)"
      ],
      "metadata": {
        "execution": {
          "iopub.status.busy": "2024-08-12T14:03:41.499341Z",
          "iopub.execute_input": "2024-08-12T14:03:41.499796Z",
          "iopub.status.idle": "2024-08-12T14:03:41.512836Z",
          "shell.execute_reply.started": "2024-08-12T14:03:41.499763Z",
          "shell.execute_reply": "2024-08-12T14:03:41.511318Z"
        },
        "trusted": true,
        "id": "e_UjOkiF9IOR"
      },
      "execution_count": null,
      "outputs": []
    },
    {
      "cell_type": "code",
      "source": [
        "print('Accuracy score on Test Data : ', test_data_accuracy)"
      ],
      "metadata": {
        "execution": {
          "iopub.status.busy": "2024-08-12T14:03:43.409803Z",
          "iopub.execute_input": "2024-08-12T14:03:43.410308Z",
          "iopub.status.idle": "2024-08-12T14:03:43.416246Z",
          "shell.execute_reply.started": "2024-08-12T14:03:43.410273Z",
          "shell.execute_reply": "2024-08-12T14:03:43.41487Z"
        },
        "trusted": true,
        "id": "7Nu5qtn99IOR"
      },
      "execution_count": null,
      "outputs": []
    }
  ]
}